{
 "cells": [
  {
   "cell_type": "code",
   "execution_count": 1,
   "id": "cf93ebae-f46c-488d-a751-169e75b75f62",
   "metadata": {},
   "outputs": [],
   "source": [
    "from pathlib import Path\n",
    "import csv"
   ]
  },
  {
   "cell_type": "code",
   "execution_count": 6,
   "id": "b3c065f5-2e34-4512-9530-2a41ac26bd7f",
   "metadata": {},
   "outputs": [],
   "source": [
    "budget_csv = Path(\"budget_data.csv\")"
   ]
  },
  {
   "cell_type": "code",
   "execution_count": 11,
   "id": "e013262c-a1a1-4d8e-a9f7-26e5c5f6e4ae",
   "metadata": {},
   "outputs": [],
   "source": [
    "line_num = 0\n",
    "profit_loss = []\n",
    "pl_dates = []\n",
    "pl_sum = 0\n",
    "max_pl = 0\n",
    "min_pl = 0\n",
    "sum = 0"
   ]
  },
  {
   "cell_type": "code",
   "execution_count": 12,
   "id": "78be2b8f-d56c-4ca9-9533-ab898b6bd2c1",
   "metadata": {},
   "outputs": [],
   "source": [
    "with open(budget_csv, 'r') as csvfile:\n",
    "    csv_reader = csv.reader(csvfile, delimiter = ',')\n",
    "    header = next(csv_reader)\n",
    "    for row in csv_reader:\n",
    "        line_num += 1\n",
    "        profit_loss.append(int(row[1]))\n",
    "        pl_sum += int(row[1])\n",
    "        pl_dates.append(row[0])"
   ]
  },
  {
   "cell_type": "code",
   "execution_count": 13,
   "id": "4e20d741-0fc9-4fa7-a794-b5c6dd93439e",
   "metadata": {},
   "outputs": [],
   "source": [
    "pl_change = []"
   ]
  },
  {
   "cell_type": "code",
   "execution_count": 14,
   "id": "923ea324-7ffe-45bd-a1e8-4f7028c009c9",
   "metadata": {},
   "outputs": [],
   "source": [
    "for i in range(1, len(profit_loss)):\n",
    "    x = profit_loss[i] - profit_loss[i - 1]\n",
    "    pl_change.append(int(x))"
   ]
  },
  {
   "cell_type": "code",
   "execution_count": 15,
   "id": "049fe5f8-35dc-48a8-86af-c4f024046e1f",
   "metadata": {},
   "outputs": [],
   "source": [
    "for i in range(0, len(pl_change)):\n",
    "    sum += pl_change[i]\n",
    "    average_change_profitloss = round((sum / (len(pl_change))), 2)"
   ]
  },
  {
   "cell_type": "code",
   "execution_count": 21,
   "id": "491cb5af-1258-4f0b-a376-041fb29d4654",
   "metadata": {},
   "outputs": [],
   "source": [
    "for pl in profit_loss:\n",
    "    if min_pl == 0:\n",
    "        max_pl == pl\n",
    "        min_pl == pl\n",
    "    if pl > max_pl:\n",
    "        max_pl = pl\n",
    "    elif pl < min_pl:\n",
    "        min_pl = pl"
   ]
  },
  {
   "cell_type": "code",
   "execution_count": 22,
   "id": "d5ab9545-0719-4bf5-85a3-98d3ac96cc37",
   "metadata": {},
   "outputs": [],
   "source": [
    "max_pl_index = profitloss.index(max_pl)\n",
    "min_pl_index = profitloss.index(min_pl)\n",
    "max_pl_date = profitloss_dates[max_pl_index]\n",
    "min_pl_date = profitloss_dates[min_pl_index]"
   ]
  },
  {
   "cell_type": "code",
   "execution_count": 23,
   "id": "f8d589d1-f17b-4cb9-a4d8-7d1813363558",
   "metadata": {},
   "outputs": [
    {
     "name": "stdout",
     "output_type": "stream",
     "text": [
      "Financial Analysis\n",
      "----------------------------\n",
      "Total Months: 86 \n",
      "Total: $38382578\n",
      "Average Change: $-2315.12\n",
      "Greatest Increase in Profits: $1170593 on Feb-2012\n",
      "Greatest Decrease in Profits: $-1196225 on Sep-2013\n"
     ]
    }
   ],
   "source": [
    "print(f\"Financial Analysis\")\n",
    "print(f\"----------------------------\")\n",
    "print(f\"Total Months: {line_num} \")\n",
    "print(f\"Total: ${profitloss_sum}\")\n",
    "print(f\"Average Change: ${average_change_profitloss}\")\n",
    "print(f\"Greatest Increase in Profits: ${max_pl} on {max_pl_date}\")\n",
    "print(f\"Greatest Decrease in Profits: ${min_pl} on {min_pl_date}\")"
   ]
  },
  {
   "cell_type": "code",
   "execution_count": 24,
   "id": "8f1688db-5f55-4624-8570-66db2d9c9d5f",
   "metadata": {},
   "outputs": [],
   "source": [
    "output_path = Path('Financial_Analysis.txt')"
   ]
  },
  {
   "cell_type": "code",
   "execution_count": 25,
   "id": "fdbc95fc-83c0-405e-87d5-fac678170be1",
   "metadata": {},
   "outputs": [],
   "source": [
    "with open(output_path, 'w') as file:\n",
    "    file.write(f\"Financial Analysis\\n\")\n",
    "    file.write(f\"----------------------------\\n\")\n",
    "    file.write(f\"Total Months: {line_num} \\n\")\n",
    "    file.write(f\"Total: ${profitloss_sum}\\n\")\n",
    "    file.write(f\"Average Change: ${average_change_profitloss}\\n\")\n",
    "    file.write(f\"Greatest Increase in Profits: {max_pl_date} (${max_pl}) \\n\")\n",
    "    file.write(f\"Greatest Decrease in Profits: {min_pl_date} (${min_pl}) \\n\")"
   ]
  },
  {
   "cell_type": "code",
   "execution_count": null,
   "id": "93bb2603-ca67-4729-bf01-6a6e1ffe15f3",
   "metadata": {},
   "outputs": [],
   "source": []
  }
 ],
 "metadata": {
  "kernelspec": {
   "display_name": "Python 3 (ipykernel)",
   "language": "python",
   "name": "python3"
  },
  "language_info": {
   "codemirror_mode": {
    "name": "ipython",
    "version": 3
   },
   "file_extension": ".py",
   "mimetype": "text/x-python",
   "name": "python",
   "nbconvert_exporter": "python",
   "pygments_lexer": "ipython3",
   "version": "3.7.11"
  }
 },
 "nbformat": 4,
 "nbformat_minor": 5
}
